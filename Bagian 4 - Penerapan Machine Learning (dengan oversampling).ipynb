{
 "cells": [
  {
   "cell_type": "markdown",
   "id": "b0560296",
   "metadata": {},
   "source": [
    "## 0. Mengimport Modul dan Membaca Data"
   ]
  },
  {
   "cell_type": "code",
   "execution_count": null,
   "id": "d250608b",
   "metadata": {},
   "outputs": [],
   "source": [
    "# Basic Packages\n",
    "import pandas as pd\n",
    "import numpy as np\n",
    "from sklearn.model_selection import train_test_split\n",
    "\n",
    "# Classifier or Clustering algorithm\n",
    "from sklearn.neural_network import MLPClassifier\n",
    "from sklearn.svm import SVC\n",
    "from sklearn.neighbors import KNeighborsClassifier\n",
    "from sklearn.tree import DecisionTreeClassifier\n",
    "import xgboost as xgb\n",
    "from sklearn.linear_model import LogisticRegression\n",
    "from sklearn.cluster import KMeans\n",
    "from sklearn.cluster import Birch\n",
    "from sklearn.mixture import GaussianMixture\n",
    "# Metrics\n",
    "from sklearn.metrics import classification_report\n",
    "from sklearn.metrics import accuracy_score\n",
    "from sklearn.metrics import average_precision_score\n",
    "from sklearn.metrics import roc_auc_score\n",
    "from sklearn.metrics import confusion_matrix"
   ]
  },
  {
   "cell_type": "code",
   "execution_count": 6,
   "id": "65ada6ab",
   "metadata": {},
   "outputs": [],
   "source": [
    "# Data asli untuk training: data hasil oversampling dari Bagian 2\n",
    "X_train = pd.read_csv('(FINAL) Oversampling Graph-based.csv').drop(['Unnamed: 0'], axis=1)\n",
    "X_train.columns = ['category_es_barsandrestaurants',\n",
    "       'category_es_contents', 'category_es_fashion', 'category_es_food',\n",
    "       'category_es_health', 'category_es_home', 'category_es_hotelservices',\n",
    "       'category_es_hyper', 'category_es_leisure', 'category_es_otherservices',\n",
    "       'category_es_sportsandtoys', 'category_es_tech',\n",
    "       'category_es_transportation', 'category_es_travel',\n",
    "       'category_es_wellnessandbeauty', 'amount', 'age', 'gender']\n",
    "X_train = X_train.iloc[:, [16,17,15,0, 1, 2, 3, 4, 5, 6, 7, 8, 9, 10, 11, 12, 13, 14]]\n",
    "y_train = pd.read_csv('(FINAL) Oversampling Graph-based label.csv')['0']\n",
    "\n",
    "# Data asli untuk testing: Data asli dari Bagian 1\n",
    "X_test = pd.read_csv('BankSim 8000.csv')\n",
    "X_test = pd.get_dummies(X_test.drop(['Unnamed: 0', 'step', 'customer', 'merchant','fraud'], axis=1), columns=['category'])\n",
    "X_test = X_test.div(X_test.sum(axis=1), axis=0) # Normalisasi\n",
    "y_test = pd.read_csv('BankSim 8000 2.csv')['fraud']\n",
    "\n",
    "# Data Embedding AAVGA untuk training dan testing: hasil dari Bagian 2\n",
    "Xe_train =  pd.read_csv('(FINAL) Embedding 32D with ImbalanceSampler (training set).csv').drop(['Unnamed: 0'], axis=1)\n",
    "Xe_test = pd.read_csv('(FINAL) Embedding 32D with ImbalanceSampler.csv').drop(['Unnamed: 0'], axis=1)\n",
    "ye_train = y_train\n",
    "ye_test = y_test"
   ]
  },
  {
   "cell_type": "markdown",
   "id": "da685680",
   "metadata": {},
   "source": [
    "## 1. Hasil dengan model AAVGA"
   ]
  },
  {
   "cell_type": "code",
   "execution_count": 18,
   "id": "dd6aee42",
   "metadata": {},
   "outputs": [
    {
     "name": "stdout",
     "output_type": "stream",
     "text": [
      "0.989\n",
      "0.555\n",
      "0.104\n",
      "[[7898    2]\n",
      " [  89   11]]\n"
     ]
    }
   ],
   "source": [
    "classifier = MLPClassifier(random_state=42)\n",
    "clf_output = classifier.fit(Xe_test, ye_test)\n",
    "pred = classifier.predict(Xe_test)\n",
    "print(np.round(accuracy_score(ye_test, pred), 3))\n",
    "print(np.round(roc_auc_score(ye_test, pred), 3))\n",
    "print(np.round(average_precision_score(ye_test, pred), 3))\n",
    "print(confusion_matrix(ye_test, pred))"
   ]
  },
  {
   "cell_type": "code",
   "execution_count": 19,
   "id": "94e279f7",
   "metadata": {},
   "outputs": [
    {
     "name": "stdout",
     "output_type": "stream",
     "text": [
      "0.988\n",
      "0.5\n",
      "0.012\n",
      "[[7900    0]\n",
      " [ 100    0]]\n"
     ]
    }
   ],
   "source": [
    "classifier = SVC(random_state=42)\n",
    "clf_output = classifier.fit(Xe_test, ye_test)\n",
    "pred = classifier.predict(Xe_test)\n",
    "print(np.round(accuracy_score(ye_test, pred), 3))\n",
    "print(np.round(roc_auc_score(ye_test, pred), 3))\n",
    "print(np.round(average_precision_score(ye_test, pred), 3))\n",
    "print(confusion_matrix(ye_test, pred))"
   ]
  },
  {
   "cell_type": "code",
   "execution_count": 20,
   "id": "9faf8646",
   "metadata": {},
   "outputs": [
    {
     "name": "stdout",
     "output_type": "stream",
     "text": [
      "0.988\n",
      "0.5\n",
      "0.012\n",
      "[[7900    0]\n",
      " [ 100    0]]\n"
     ]
    }
   ],
   "source": [
    "classifier = LogisticRegression(random_state=42)\n",
    "clf_output = classifier.fit(Xe_test, ye_test)\n",
    "pred = classifier.predict(Xe_test)\n",
    "print(np.round(accuracy_score(ye_test, pred), 3))\n",
    "print(np.round(roc_auc_score(ye_test, pred), 3))\n",
    "print(np.round(average_precision_score(ye_test, pred), 3))\n",
    "print(confusion_matrix(ye_test, pred))"
   ]
  },
  {
   "cell_type": "code",
   "execution_count": 21,
   "id": "83175a73",
   "metadata": {},
   "outputs": [
    {
     "name": "stdout",
     "output_type": "stream",
     "text": [
      "0.992\n",
      "0.764\n",
      "0.396\n",
      "[[7881   19]\n",
      " [  47   53]]\n"
     ]
    }
   ],
   "source": [
    "classifier = KNeighborsClassifier()\n",
    "clf_output = classifier.fit(Xe_test, ye_test)\n",
    "pred = classifier.predict(Xe_test)\n",
    "print(np.round(accuracy_score(ye_test, pred), 3))\n",
    "print(np.round(roc_auc_score(ye_test, pred), 3))\n",
    "print(np.round(average_precision_score(ye_test, pred), 3))\n",
    "print(confusion_matrix(ye_test, pred))"
   ]
  },
  {
   "cell_type": "code",
   "execution_count": 22,
   "id": "91f1bd99",
   "metadata": {},
   "outputs": [
    {
     "name": "stdout",
     "output_type": "stream",
     "text": [
      "1.0\n",
      "0.995\n",
      "0.99\n",
      "[[7900    0]\n",
      " [   1   99]]\n"
     ]
    }
   ],
   "source": [
    "classifier = DecisionTreeClassifier(random_state=42)\n",
    "clf_output = classifier.fit(Xe_test, ye_test)\n",
    "pred = classifier.predict(Xe_test)\n",
    "print(np.round(accuracy_score(ye_test, pred), 3))\n",
    "print(np.round(roc_auc_score(ye_test, pred), 3))\n",
    "print(np.round(average_precision_score(ye_test, pred), 3))\n",
    "print(confusion_matrix(ye_test, pred))"
   ]
  },
  {
   "cell_type": "code",
   "execution_count": 23,
   "id": "3009bcc2",
   "metadata": {},
   "outputs": [
    {
     "name": "stdout",
     "output_type": "stream",
     "text": [
      "1.0\n",
      "1.0\n",
      "1.0\n",
      "[[7900    0]\n",
      " [   0  100]]\n"
     ]
    }
   ],
   "source": [
    "classifier = xgb.XGBClassifier(random_state=42)\n",
    "clf_output = classifier.fit(Xe_test, ye_test)\n",
    "pred = classifier.predict(Xe_test)\n",
    "print(np.round(accuracy_score(ye_test, pred), 3))\n",
    "print(np.round(roc_auc_score(ye_test, pred), 3))\n",
    "print(np.round(average_precision_score(ye_test, pred), 3))\n",
    "print(confusion_matrix(ye_test, pred))"
   ]
  },
  {
   "cell_type": "code",
   "execution_count": 24,
   "id": "951ccbfd",
   "metadata": {},
   "outputs": [
    {
     "name": "stdout",
     "output_type": "stream",
     "text": [
      "0.864\n",
      "0.931\n",
      "0.084\n",
      "[[6808 1092]\n",
      " [   0  100]]\n"
     ]
    }
   ],
   "source": [
    "classifier = KMeans(n_clusters=2)\n",
    "clf_output = classifier.fit(Xe_test, ye_test)\n",
    "pred = classifier.predict(Xe_test)\n",
    "print(np.round(accuracy_score(ye_test, pred), 3))\n",
    "print(np.round(roc_auc_score(ye_test, pred), 3))\n",
    "print(np.round(average_precision_score(ye_test, pred), 3))\n",
    "print(confusion_matrix(ye_test, pred))"
   ]
  },
  {
   "cell_type": "code",
   "execution_count": 25,
   "id": "0a8117a1",
   "metadata": {},
   "outputs": [
    {
     "name": "stdout",
     "output_type": "stream",
     "text": [
      "0.863\n",
      "0.931\n",
      "0.083\n",
      "[[6802 1098]\n",
      " [   0  100]]\n"
     ]
    }
   ],
   "source": [
    "classifier = GaussianMixture(n_components=2)\n",
    "clf_output = classifier.fit(Xe_test, ye_test)\n",
    "pred = classifier.predict(Xe_test)\n",
    "print(np.round(accuracy_score(ye_test, pred), 3))\n",
    "print(np.round(roc_auc_score(ye_test, pred), 3))\n",
    "print(np.round(average_precision_score(ye_test, pred), 3))\n",
    "print(confusion_matrix(ye_test, pred))"
   ]
  },
  {
   "cell_type": "code",
   "execution_count": 25,
   "id": "94dfa1ef",
   "metadata": {},
   "outputs": [
    {
     "name": "stdout",
     "output_type": "stream",
     "text": [
      "0.863\n",
      "0.931\n",
      "0.083\n",
      "[[6802 1098]\n",
      " [   0  100]]\n"
     ]
    }
   ],
   "source": [
    "classifier = GaussianMixture(n_components=2)\n",
    "clf_output = classifier.fit(Xe_test, ye_test)\n",
    "pred = classifier.predict(Xe_test)\n",
    "print(np.round(accuracy_score(ye_test, pred), 3))\n",
    "print(np.round(roc_auc_score(ye_test, pred), 3))\n",
    "print(np.round(average_precision_score(ye_test, pred), 3))\n",
    "print(confusion_matrix(ye_test, pred))"
   ]
  },
  {
   "cell_type": "markdown",
   "id": "3a8b6e39",
   "metadata": {},
   "source": [
    "## 2. Hasil dengan Direct ML"
   ]
  },
  {
   "cell_type": "code",
   "execution_count": 30,
   "id": "7c9a8b6b",
   "metadata": {},
   "outputs": [
    {
     "name": "stdout",
     "output_type": "stream",
     "text": [
      "0.971\n",
      "0.956\n",
      "0.278\n",
      "[[7675  225]\n",
      " [   6   94]]\n"
     ]
    },
    {
     "name": "stderr",
     "output_type": "stream",
     "text": [
      "C:\\Users\\nural\\anaconda3\\envs\\geom\\lib\\site-packages\\sklearn\\neural_network\\_multilayer_perceptron.py:702: ConvergenceWarning: Stochastic Optimizer: Maximum iterations (200) reached and the optimization hasn't converged yet.\n",
      "  warnings.warn(\n"
     ]
    }
   ],
   "source": [
    "classifier = MLPClassifier(random_state=42)\n",
    "clf_output = classifier.fit(X_train, y_train)\n",
    "pred = classifier.predict(X_test)\n",
    "print(np.round(accuracy_score(y_test, pred), 3))\n",
    "print(np.round(roc_auc_score(y_test, pred), 3))\n",
    "print(np.round(average_precision_score(y_test, pred), 3))\n",
    "print(confusion_matrix(y_test, pred))"
   ]
  },
  {
   "cell_type": "code",
   "execution_count": 31,
   "id": "fa6249b8",
   "metadata": {},
   "outputs": [
    {
     "name": "stdout",
     "output_type": "stream",
     "text": [
      "0.944\n",
      "0.932\n",
      "0.159\n",
      "[[7457  443]\n",
      " [   8   92]]\n"
     ]
    }
   ],
   "source": [
    "classifier = SVC(random_state=42)\n",
    "clf_output = classifier.fit(X_train, y_train)\n",
    "pred = classifier.predict(X_test)\n",
    "print(np.round(accuracy_score(y_test, pred), 3))\n",
    "print(np.round(roc_auc_score(y_test, pred), 3))\n",
    "print(np.round(average_precision_score(y_test, pred), 3))\n",
    "print(confusion_matrix(y_test, pred))"
   ]
  },
  {
   "cell_type": "code",
   "execution_count": 32,
   "id": "6f6a0cb3",
   "metadata": {},
   "outputs": [
    {
     "name": "stdout",
     "output_type": "stream",
     "text": [
      "0.932\n",
      "0.912\n",
      "0.13\n",
      "[[7371  529]\n",
      " [  11   89]]\n"
     ]
    }
   ],
   "source": [
    "classifier = LogisticRegression(random_state=42)\n",
    "clf_output = classifier.fit(X_train, y_train)\n",
    "pred = classifier.predict(X_test)\n",
    "print(np.round(accuracy_score(y_test, pred), 3))\n",
    "print(np.round(roc_auc_score(y_test, pred), 3))\n",
    "print(np.round(average_precision_score(y_test, pred), 3))\n",
    "print(confusion_matrix(y_test, pred))"
   ]
  },
  {
   "cell_type": "code",
   "execution_count": 33,
   "id": "d6aed926",
   "metadata": {},
   "outputs": [
    {
     "name": "stdout",
     "output_type": "stream",
     "text": [
      "0.991\n",
      "0.995\n",
      "0.575\n",
      "[[7826   74]\n",
      " [   0  100]]\n"
     ]
    }
   ],
   "source": [
    "classifier = KNeighborsClassifier()\n",
    "clf_output = classifier.fit(X_train, y_train)\n",
    "pred = classifier.predict(X_test)\n",
    "print(np.round(accuracy_score(y_test, pred), 3))\n",
    "print(np.round(roc_auc_score(y_test, pred), 3))\n",
    "print(np.round(average_precision_score(y_test, pred), 3))\n",
    "print(confusion_matrix(y_test, pred))"
   ]
  },
  {
   "cell_type": "code",
   "execution_count": 34,
   "id": "03749feb",
   "metadata": {},
   "outputs": [
    {
     "name": "stdout",
     "output_type": "stream",
     "text": [
      "1.0\n",
      "1.0\n",
      "1.0\n",
      "[[7900    0]\n",
      " [   0  100]]\n"
     ]
    }
   ],
   "source": [
    "classifier = DecisionTreeClassifier(random_state=42)\n",
    "clf_output = classifier.fit(X_train, y_train)\n",
    "pred = classifier.predict(X_test)\n",
    "print(np.round(accuracy_score(y_test, pred), 3))\n",
    "print(np.round(roc_auc_score(y_test, pred), 3))\n",
    "print(np.round(average_precision_score(y_test, pred), 3))\n",
    "print(confusion_matrix(y_test, pred))"
   ]
  },
  {
   "cell_type": "code",
   "execution_count": 35,
   "id": "82d62466",
   "metadata": {},
   "outputs": [
    {
     "name": "stdout",
     "output_type": "stream",
     "text": [
      "1.0\n",
      "1.0\n",
      "0.962\n",
      "[[7896    4]\n",
      " [   0  100]]\n"
     ]
    }
   ],
   "source": [
    "classifier = xgb.XGBClassifier(random_state=42)\n",
    "clf_output = classifier.fit(X_train, y_train)\n",
    "pred = classifier.predict(X_test)\n",
    "print(np.round(accuracy_score(y_test, pred), 3))\n",
    "print(np.round(roc_auc_score(y_test, pred), 3))\n",
    "print(np.round(average_precision_score(y_test, pred), 3))\n",
    "print(confusion_matrix(y_test, pred))"
   ]
  },
  {
   "cell_type": "code",
   "execution_count": 36,
   "id": "c75a303b",
   "metadata": {},
   "outputs": [
    {
     "name": "stdout",
     "output_type": "stream",
     "text": [
      "0.814\n",
      "0.417\n",
      "0.012\n",
      "[[6509 1391]\n",
      " [  99    1]]\n"
     ]
    }
   ],
   "source": [
    "classifier = KMeans(n_clusters=2)\n",
    "clf_output = classifier.fit(X_train, y_train)\n",
    "pred = classifier.predict(X_test)\n",
    "print(np.round(accuracy_score(y_test, pred), 3))\n",
    "print(np.round(roc_auc_score(y_test, pred), 3))\n",
    "print(np.round(average_precision_score(y_test, pred), 3))\n",
    "print(confusion_matrix(y_test, pred))"
   ]
  },
  {
   "cell_type": "code",
   "execution_count": 61,
   "id": "f1be6914",
   "metadata": {},
   "outputs": [
    {
     "name": "stdout",
     "output_type": "stream",
     "text": [
      "0.872\n",
      "0.535\n",
      "0.014\n",
      "[[6959  941]\n",
      " [  81   19]]\n"
     ]
    }
   ],
   "source": [
    "classifier = GaussianMixture(n_components=2)\n",
    "clf_output = classifier.fit(X_train, y_train)\n",
    "pred = classifier.predict(X_test) == 0\n",
    "print(np.round(accuracy_score(y_test, pred), 3))\n",
    "print(np.round(roc_auc_score(y_test, pred), 3))\n",
    "print(np.round(average_precision_score(y_test, pred), 3))\n",
    "print(confusion_matrix(y_test, pred))"
   ]
  },
  {
   "cell_type": "code",
   "execution_count": 38,
   "id": "2ce38c1b",
   "metadata": {},
   "outputs": [
    {
     "name": "stdout",
     "output_type": "stream",
     "text": [
      "0.943\n",
      "0.477\n",
      "0.012\n",
      "[[7544  356]\n",
      " [ 100    0]]\n"
     ]
    }
   ],
   "source": [
    "classifier = Birch(threshold=0.03, n_clusters=2)\n",
    "clf_output = classifier.fit(X_train, y_train)\n",
    "pred = classifier.predict(X_test)\n",
    "print(np.round(accuracy_score(y_test, pred), 3))\n",
    "print(np.round(roc_auc_score(y_test, pred), 3))\n",
    "print(np.round(average_precision_score(y_test, pred), 3))\n",
    "print(confusion_matrix(y_test, pred))"
   ]
  },
  {
   "cell_type": "code",
   "execution_count": null,
   "id": "de5b73f6",
   "metadata": {},
   "outputs": [],
   "source": []
  }
 ],
 "metadata": {
  "kernelspec": {
   "display_name": "Python 3 (ipykernel)",
   "language": "python",
   "name": "python3"
  },
  "language_info": {
   "codemirror_mode": {
    "name": "ipython",
    "version": 3
   },
   "file_extension": ".py",
   "mimetype": "text/x-python",
   "name": "python",
   "nbconvert_exporter": "python",
   "pygments_lexer": "ipython3",
   "version": "3.9.13"
  }
 },
 "nbformat": 4,
 "nbformat_minor": 5
}
