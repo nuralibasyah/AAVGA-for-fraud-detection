{
 "cells": [
  {
   "cell_type": "markdown",
   "id": "b77dcd85",
   "metadata": {},
   "source": [
    "## 0. Mengimport Modul dan Membaca Data"
   ]
  },
  {
   "cell_type": "code",
   "execution_count": 1,
   "id": "a3778992",
   "metadata": {},
   "outputs": [],
   "source": [
    "# Basic Packages\n",
    "import pandas as pd\n",
    "import numpy as np\n",
    "from sklearn.model_selection import train_test_split\n",
    "\n",
    "# Classifier or Clustering algorithm\n",
    "from sklearn.neural_network import MLPClassifier\n",
    "from sklearn.svm import SVC\n",
    "from sklearn.neighbors import KNeighborsClassifier\n",
    "from sklearn.tree import DecisionTreeClassifier\n",
    "import xgboost as xgb\n",
    "from sklearn.linear_model import LogisticRegression\n",
    "from sklearn.cluster import KMeans\n",
    "from sklearn.cluster import Birch\n",
    "from sklearn.mixture import GaussianMixture\n",
    "# Metrics\n",
    "from sklearn.metrics import classification_report\n",
    "from sklearn.metrics import accuracy_score\n",
    "from sklearn.metrics import average_precision_score\n",
    "from sklearn.metrics import roc_auc_score\n",
    "from sklearn.metrics import confusion_matrix"
   ]
  },
  {
   "cell_type": "code",
   "execution_count": 2,
   "id": "8ee41382",
   "metadata": {},
   "outputs": [],
   "source": [
    "# Data untuk direct machine learning\n",
    "df = pd.read_csv('BankSim 8000.csv')\n",
    "X = pd.get_dummies(df.drop(['Unnamed: 0', 'step', 'customer', 'merchant','fraud'], axis=1), columns=['category'])\n",
    "y = df['fraud']\n",
    "\n",
    "# Data untuk model AAVGA\n",
    "Xe = pd.read_csv('Embedding AAVGA without ImbalanceSampler.csv').drop(['Unnamed: 0'], axis=1)\n",
    "ye = df['fraud']"
   ]
  },
  {
   "cell_type": "markdown",
   "id": "da685680",
   "metadata": {},
   "source": [
    "## 1. Hasil dengan model AAVGA"
   ]
  },
  {
   "cell_type": "code",
   "execution_count": 3,
   "id": "ff9941c0",
   "metadata": {},
   "outputs": [
    {
     "name": "stdout",
     "output_type": "stream",
     "text": [
      "0.989\n",
      "0.545\n",
      "0.101\n",
      "[[7900    0]\n",
      " [  91    9]]\n"
     ]
    }
   ],
   "source": [
    "classifier = MLPClassifier(random_state=42)\n",
    "clf_output = classifier.fit(Xe, ye)\n",
    "pred = classifier.predict(Xe)\n",
    "print(np.round(accuracy_score(ye, pred), 3))\n",
    "print(np.round(roc_auc_score(ye, pred), 3))\n",
    "print(np.round(average_precision_score(ye, pred), 3))\n",
    "print(confusion_matrix(ye, pred))"
   ]
  },
  {
   "cell_type": "code",
   "execution_count": 4,
   "id": "ad9f3c01",
   "metadata": {},
   "outputs": [
    {
     "name": "stdout",
     "output_type": "stream",
     "text": [
      "0.988\n",
      "0.5\n",
      "0.012\n",
      "[[7900    0]\n",
      " [ 100    0]]\n"
     ]
    }
   ],
   "source": [
    "classifier = SVC(random_state=42)\n",
    "clf_output = classifier.fit(Xe, ye)\n",
    "pred = classifier.predict(Xe)\n",
    "print(np.round(accuracy_score(ye, pred), 3))\n",
    "print(np.round(roc_auc_score(ye, pred), 3))\n",
    "print(np.round(average_precision_score(ye, pred), 3))\n",
    "print(confusion_matrix(ye, pred))"
   ]
  },
  {
   "cell_type": "code",
   "execution_count": 5,
   "id": "47d3f30d",
   "metadata": {},
   "outputs": [
    {
     "name": "stdout",
     "output_type": "stream",
     "text": [
      "0.988\n",
      "0.5\n",
      "0.012\n",
      "[[7900    0]\n",
      " [ 100    0]]\n"
     ]
    }
   ],
   "source": [
    "classifier = LogisticRegression(random_state=42)\n",
    "clf_output = classifier.fit(Xe, ye)\n",
    "pred = classifier.predict(Xe)\n",
    "print(np.round(accuracy_score(ye, pred), 3))\n",
    "print(np.round(roc_auc_score(ye, pred), 3))\n",
    "print(np.round(average_precision_score(ye, pred), 3))\n",
    "print(confusion_matrix(ye, pred))"
   ]
  },
  {
   "cell_type": "code",
   "execution_count": 6,
   "id": "7ba5cce1",
   "metadata": {},
   "outputs": [
    {
     "name": "stdout",
     "output_type": "stream",
     "text": [
      "0.993\n",
      "0.794\n",
      "0.482\n",
      "[[7886   14]\n",
      " [  41   59]]\n"
     ]
    }
   ],
   "source": [
    "classifier = KNeighborsClassifier()\n",
    "clf_output = classifier.fit(Xe, ye)\n",
    "pred = classifier.predict(Xe)\n",
    "print(np.round(accuracy_score(ye, pred), 3))\n",
    "print(np.round(roc_auc_score(ye, pred), 3))\n",
    "print(np.round(average_precision_score(ye, pred), 3))\n",
    "print(confusion_matrix(ye, pred))"
   ]
  },
  {
   "cell_type": "code",
   "execution_count": 7,
   "id": "7da0d3d5",
   "metadata": {},
   "outputs": [
    {
     "name": "stdout",
     "output_type": "stream",
     "text": [
      "1.0\n",
      "0.995\n",
      "0.99\n",
      "[[7900    0]\n",
      " [   1   99]]\n"
     ]
    }
   ],
   "source": [
    "classifier = DecisionTreeClassifier(random_state=42)\n",
    "clf_output = classifier.fit(Xe, ye)\n",
    "pred = classifier.predict(Xe)\n",
    "print(np.round(accuracy_score(ye, pred), 3))\n",
    "print(np.round(roc_auc_score(ye, pred), 3))\n",
    "print(np.round(average_precision_score(ye, pred), 3))\n",
    "print(confusion_matrix(ye, pred))"
   ]
  },
  {
   "cell_type": "code",
   "execution_count": 8,
   "id": "5efa4bec",
   "metadata": {},
   "outputs": [
    {
     "name": "stdout",
     "output_type": "stream",
     "text": [
      "1.0\n",
      "1.0\n",
      "1.0\n",
      "[[7900    0]\n",
      " [   0  100]]\n"
     ]
    }
   ],
   "source": [
    "classifier = xgb.XGBClassifier(random_state=42)\n",
    "clf_output = classifier.fit(Xe, ye)\n",
    "pred = classifier.predict(Xe)\n",
    "print(np.round(accuracy_score(ye, pred), 3))\n",
    "print(np.round(roc_auc_score(ye, pred), 3))\n",
    "print(np.round(average_precision_score(ye, pred), 3))\n",
    "print(confusion_matrix(ye, pred))"
   ]
  },
  {
   "cell_type": "code",
   "execution_count": 9,
   "id": "d0b09fb8",
   "metadata": {},
   "outputs": [
    {
     "name": "stdout",
     "output_type": "stream",
     "text": [
      "0.863\n",
      "0.931\n",
      "0.084\n",
      "[[6806 1094]\n",
      " [   0  100]]\n"
     ]
    }
   ],
   "source": [
    "classifier = KMeans(n_clusters=2)\n",
    "clf_output = classifier.fit(Xe, ye)\n",
    "pred = classifier.predict(Xe)\n",
    "print(np.round(accuracy_score(ye, pred), 3))\n",
    "print(np.round(roc_auc_score(ye, pred), 3))\n",
    "print(np.round(average_precision_score(ye, pred), 3))\n",
    "print(confusion_matrix(ye, pred))"
   ]
  },
  {
   "cell_type": "code",
   "execution_count": 10,
   "id": "02e2fab5",
   "metadata": {},
   "outputs": [
    {
     "name": "stdout",
     "output_type": "stream",
     "text": [
      "0.863\n",
      "0.931\n",
      "0.083\n",
      "[[6802 1098]\n",
      " [   0  100]]\n"
     ]
    }
   ],
   "source": [
    "classifier = GaussianMixture(n_components=2)\n",
    "clf_output = classifier.fit(Xe, ye)\n",
    "pred = classifier.predict(Xe)\n",
    "print(np.round(accuracy_score(ye, pred), 3))\n",
    "print(np.round(roc_auc_score(ye, pred), 3))\n",
    "print(np.round(average_precision_score(ye, pred), 3))\n",
    "print(confusion_matrix(ye, pred))"
   ]
  },
  {
   "cell_type": "code",
   "execution_count": 11,
   "id": "86f47d1e",
   "metadata": {},
   "outputs": [
    {
     "name": "stdout",
     "output_type": "stream",
     "text": [
      "0.987\n",
      "0.5\n",
      "0.012\n",
      "[[7895    5]\n",
      " [ 100    0]]\n"
     ]
    }
   ],
   "source": [
    "classifier = Birch(threshold=0.03, n_clusters=2)\n",
    "clf_output = classifier.fit(Xe, ye)\n",
    "pred = classifier.predict(Xe)\n",
    "print(np.round(accuracy_score(ye, pred), 3))\n",
    "print(np.round(roc_auc_score(ye, pred), 3))\n",
    "print(np.round(average_precision_score(ye, pred), 3))\n",
    "print(confusion_matrix(ye, pred))"
   ]
  },
  {
   "cell_type": "markdown",
   "id": "0f32bd37",
   "metadata": {},
   "source": [
    "## 2. Hasil direct ML"
   ]
  },
  {
   "cell_type": "code",
   "execution_count": 12,
   "id": "9fc4eef6",
   "metadata": {},
   "outputs": [
    {
     "name": "stdout",
     "output_type": "stream",
     "text": [
      "0.991\n",
      "0.847\n",
      "0.437\n",
      "[[7857   43]\n",
      " [  30   70]]\n"
     ]
    }
   ],
   "source": [
    "classifier = MLPClassifier(random_state=42)\n",
    "clf_output = classifier.fit(X, y)\n",
    "pred = classifier.predict(X)\n",
    "print(np.round(accuracy_score(y, pred), 3))\n",
    "print(np.round(roc_auc_score(y, pred), 3))\n",
    "print(np.round(average_precision_score(y, pred), 3))\n",
    "print(confusion_matrix(y, pred))"
   ]
  },
  {
   "cell_type": "code",
   "execution_count": 13,
   "id": "1ec970f2",
   "metadata": {},
   "outputs": [
    {
     "name": "stdout",
     "output_type": "stream",
     "text": [
      "0.993\n",
      "0.755\n",
      "0.455\n",
      "[[7893    7]\n",
      " [  49   51]]\n"
     ]
    }
   ],
   "source": [
    "classifier = SVC(random_state=42)\n",
    "clf_output = classifier.fit(X, y)\n",
    "pred = classifier.predict(X)\n",
    "print(np.round(accuracy_score(y, pred), 3))\n",
    "print(np.round(roc_auc_score(y, pred), 3))\n",
    "print(np.round(average_precision_score(y, pred), 3))\n",
    "print(confusion_matrix(y, pred))"
   ]
  },
  {
   "cell_type": "code",
   "execution_count": 14,
   "id": "cc2ac29d",
   "metadata": {},
   "outputs": [
    {
     "name": "stdout",
     "output_type": "stream",
     "text": [
      "0.993\n",
      "0.774\n",
      "0.486\n",
      "[[7892    8]\n",
      " [  45   55]]\n"
     ]
    },
    {
     "name": "stderr",
     "output_type": "stream",
     "text": [
      "C:\\Users\\nural\\anaconda3\\envs\\geom\\lib\\site-packages\\sklearn\\linear_model\\_logistic.py:444: ConvergenceWarning: lbfgs failed to converge (status=1):\n",
      "STOP: TOTAL NO. of ITERATIONS REACHED LIMIT.\n",
      "\n",
      "Increase the number of iterations (max_iter) or scale the data as shown in:\n",
      "    https://scikit-learn.org/stable/modules/preprocessing.html\n",
      "Please also refer to the documentation for alternative solver options:\n",
      "    https://scikit-learn.org/stable/modules/linear_model.html#logistic-regression\n",
      "  n_iter_i = _check_optimize_result(\n"
     ]
    }
   ],
   "source": [
    "classifier = LogisticRegression(random_state=42)\n",
    "clf_output = classifier.fit(X, y)\n",
    "pred = classifier.predict(X)\n",
    "print(np.round(accuracy_score(y, pred), 3))\n",
    "print(np.round(roc_auc_score(y, pred), 3))\n",
    "print(np.round(average_precision_score(y, pred), 3))\n",
    "print(confusion_matrix(y, pred))"
   ]
  },
  {
   "cell_type": "code",
   "execution_count": 15,
   "id": "d2fae24c",
   "metadata": {},
   "outputs": [
    {
     "name": "stdout",
     "output_type": "stream",
     "text": [
      "0.993\n",
      "0.759\n",
      "0.449\n",
      "[[7891    9]\n",
      " [  48   52]]\n"
     ]
    }
   ],
   "source": [
    "classifier = KNeighborsClassifier()\n",
    "clf_output = classifier.fit(X, y)\n",
    "pred = classifier.predict(X)\n",
    "print(np.round(accuracy_score(y, pred), 3))\n",
    "print(np.round(roc_auc_score(y, pred), 3))\n",
    "print(np.round(average_precision_score(y, pred), 3))\n",
    "print(confusion_matrix(y, pred))"
   ]
  },
  {
   "cell_type": "code",
   "execution_count": 24,
   "id": "f2fab3bb",
   "metadata": {},
   "outputs": [
    {
     "name": "stdout",
     "output_type": "stream",
     "text": [
      "1.0\n",
      "1.0\n",
      "1.0\n",
      "[[7900    0]\n",
      " [   0  100]]\n"
     ]
    }
   ],
   "source": [
    "classifier = DecisionTreeClassifier(random_state=42)\n",
    "clf_output = classifier.fit(X, y)\n",
    "pred = classifier.predict(X)\n",
    "print(np.round(accuracy_score(y, pred), 3))\n",
    "print(np.round(roc_auc_score(y, pred), 3))\n",
    "print(np.round(average_precision_score(y, pred), 3))\n",
    "print(confusion_matrix(y, pred))"
   ]
  },
  {
   "cell_type": "code",
   "execution_count": 17,
   "id": "11bc521f",
   "metadata": {},
   "outputs": [
    {
     "name": "stdout",
     "output_type": "stream",
     "text": [
      "0.999\n",
      "0.965\n",
      "0.921\n",
      "[[7899    1]\n",
      " [   7   93]]\n"
     ]
    }
   ],
   "source": [
    "classifier = xgb.XGBClassifier(random_state=42)\n",
    "clf_output = classifier.fit(X, y)\n",
    "pred = classifier.predict(X)\n",
    "print(np.round(accuracy_score(y, pred), 3))\n",
    "print(np.round(roc_auc_score(y, pred), 3))\n",
    "print(np.round(average_precision_score(y, pred), 3))\n",
    "print(confusion_matrix(y, pred))"
   ]
  },
  {
   "cell_type": "code",
   "execution_count": 18,
   "id": "f994faa7",
   "metadata": {},
   "outputs": [
    {
     "name": "stdout",
     "output_type": "stream",
     "text": [
      "0.988\n",
      "0.515\n",
      "0.042\n",
      "[[7900    0]\n",
      " [  97    3]]\n"
     ]
    }
   ],
   "source": [
    "classifier = KMeans(n_clusters=2)\n",
    "clf_output = classifier.fit(X, y)\n",
    "pred = classifier.predict(X)\n",
    "print(np.round(accuracy_score(y, pred), 3))\n",
    "print(np.round(roc_auc_score(y, pred), 3))\n",
    "print(np.round(average_precision_score(y, pred), 3))\n",
    "print(confusion_matrix(y, pred))"
   ]
  },
  {
   "cell_type": "code",
   "execution_count": 18,
   "id": "713e56d8",
   "metadata": {},
   "outputs": [
    {
     "name": "stdout",
     "output_type": "stream",
     "text": [
      "0.988\n",
      "0.515\n",
      "0.042\n",
      "[[7900    0]\n",
      " [  97    3]]\n"
     ]
    }
   ],
   "source": [
    "classifier = KMeans(n_clusters=2)\n",
    "clf_output = classifier.fit(X, y)\n",
    "pred = classifier.predict(X)\n",
    "print(np.round(accuracy_score(y, pred), 3))\n",
    "print(np.round(roc_auc_score(y, pred), 3))\n",
    "print(np.round(average_precision_score(y, pred), 3))\n",
    "print(confusion_matrix(y, pred))"
   ]
  },
  {
   "cell_type": "code",
   "execution_count": 20,
   "id": "e6633f82",
   "metadata": {},
   "outputs": [
    {
     "name": "stdout",
     "output_type": "stream",
     "text": [
      "0.988\n",
      "0.515\n",
      "0.042\n",
      "[[7900    0]\n",
      " [  97    3]]\n"
     ]
    }
   ],
   "source": [
    "classifier = Birch(threshold=0.03, n_clusters=2)\n",
    "clf_output = classifier.fit(X, y)\n",
    "pred = classifier.predict(X)\n",
    "print(np.round(accuracy_score(y, pred), 3))\n",
    "print(np.round(roc_auc_score(y, pred), 3))\n",
    "print(np.round(average_precision_score(y, pred), 3))\n",
    "print(confusion_matrix(y, pred))"
   ]
  },
  {
   "cell_type": "code",
   "execution_count": null,
   "id": "49b0a344",
   "metadata": {},
   "outputs": [],
   "source": []
  }
 ],
 "metadata": {
  "kernelspec": {
   "display_name": "Python 3 (ipykernel)",
   "language": "python",
   "name": "python3"
  },
  "language_info": {
   "codemirror_mode": {
    "name": "ipython",
    "version": 3
   },
   "file_extension": ".py",
   "mimetype": "text/x-python",
   "name": "python",
   "nbconvert_exporter": "python",
   "pygments_lexer": "ipython3",
   "version": "3.9.13"
  }
 },
 "nbformat": 4,
 "nbformat_minor": 5
}
