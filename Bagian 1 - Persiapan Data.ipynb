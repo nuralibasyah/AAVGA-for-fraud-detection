{
 "cells": [
  {
   "cell_type": "markdown",
   "id": "e0dd8afc",
   "metadata": {},
   "source": [
    "## 0. Mengimport Modul dan Membaca Data"
   ]
  },
  {
   "cell_type": "code",
   "execution_count": 1,
   "id": "e0da2a9c",
   "metadata": {},
   "outputs": [],
   "source": [
    "import pandas as pd\n",
    "import numpy as np\n",
    "import time\n",
    "import torch\n",
    "import torch_geometric\n",
    "import scipy"
   ]
  },
  {
   "cell_type": "code",
   "execution_count": null,
   "id": "f7f942e9",
   "metadata": {},
   "outputs": [],
   "source": [
    "# Loading xlsx file of real BankSim dataset\n",
    "log_df = pd.read_excel('BankSim for Thesis.xlsx', sheet_name='BankSim for Thesis')"
   ]
  },
  {
   "cell_type": "markdown",
   "id": "d9da2931",
   "metadata": {},
   "source": [
    "## 1. Membangun Matriks Ketetanggaan dan Objek Graf"
   ]
  },
  {
   "cell_type": "code",
   "execution_count": 4,
   "id": "4b26aed5",
   "metadata": {},
   "outputs": [
    {
     "name": "stdout",
     "output_type": "stream",
     "text": [
      "0 0.23177099227905273\n",
      "100 15.52385950088501\n",
      "200 29.751585245132446\n",
      "300 43.87968897819519\n",
      "400 57.88134145736694\n",
      "500 72.18541121482849\n",
      "600 86.0971565246582\n",
      "700 99.68208718299866\n",
      "800 113.44995164871216\n",
      "900 127.20380687713623\n",
      "1000 140.97418093681335\n",
      "1100 156.10906529426575\n",
      "1200 171.27634525299072\n",
      "1300 183.64107966423035\n",
      "1400 195.57264399528503\n",
      "1500 207.4504954814911\n",
      "1600 219.06817507743835\n",
      "1700 230.8986246585846\n",
      "1800 242.28113675117493\n",
      "1900 253.54528999328613\n",
      "2000 264.4571764469147\n",
      "2100 275.20553708076477\n",
      "2200 285.7404053211212\n",
      "2300 296.13619470596313\n",
      "2400 306.43857741355896\n",
      "2500 316.63161063194275\n",
      "2600 326.7220025062561\n",
      "2700 336.61636209487915\n",
      "2800 346.3754494190216\n",
      "2900 356.0019338130951\n",
      "3000 365.505464553833\n",
      "3100 374.8241512775421\n",
      "3200 384.0267868041992\n",
      "3300 393.1357321739197\n",
      "3400 402.1530177593231\n",
      "3500 410.977014541626\n",
      "3600 419.68188095092773\n",
      "3700 428.2264053821564\n",
      "3800 436.6850039958954\n",
      "3900 445.56656527519226\n",
      "4000 453.8471429347992\n",
      "4100 462.15810203552246\n",
      "4200 470.19810914993286\n",
      "4300 478.1974024772644\n",
      "4400 485.9298143386841\n",
      "4500 493.46066522598267\n",
      "4600 500.7921710014343\n",
      "4700 508.0512671470642\n",
      "4800 515.206789970398\n",
      "4900 522.1174473762512\n",
      "5000 528.9141073226929\n",
      "5100 535.59255194664\n",
      "5200 542.108767747879\n",
      "5300 548.5072693824768\n",
      "5400 554.7403697967529\n",
      "5500 561.0487713813782\n",
      "5600 567.5855491161346\n",
      "5700 573.4683182239532\n",
      "5800 579.2028801441193\n",
      "5900 584.772665977478\n",
      "6000 590.2325718402863\n",
      "6100 595.5576705932617\n",
      "6200 600.7517457008362\n",
      "6300 605.7859976291656\n",
      "6400 610.7027702331543\n",
      "6500 615.4798109531403\n",
      "6600 620.1202185153961\n",
      "6700 624.6296076774597\n",
      "6800 629.017571926117\n",
      "6900 633.263192653656\n",
      "7000 637.3846514225006\n",
      "7100 641.3471064567566\n",
      "7200 645.1756377220154\n",
      "7300 648.8739845752716\n",
      "7400 652.4492561817169\n",
      "7500 655.8955762386322\n",
      "7600 659.1973557472229\n",
      "7700 662.3780460357666\n",
      "7800 665.4219799041748\n",
      "7900 668.3338141441345\n",
      "8000 671.0835852622986\n",
      "8100 673.7161626815796\n",
      "8200 676.2026069164276\n",
      "8300 678.5521278381348\n",
      "8400 680.7936849594116\n",
      "8500 682.880398273468\n",
      "8600 684.8457372188568\n",
      "8700 686.6619203090668\n",
      "8800 688.3521428108215\n",
      "8900 689.9205574989319\n",
      "9000 691.3333926200867\n",
      "9100 692.6084322929382\n",
      "9200 693.7685389518738\n",
      "9300 694.7728741168976\n",
      "9400 695.662581205368\n",
      "9500 696.4145147800446\n",
      "9600 697.028370141983\n",
      "9700 697.5056350231171\n",
      "9800 697.8350155353546\n",
      "9900 698.0410618782043\n",
      "Time to construct data object based on A: 700.0652029514313\n"
     ]
    }
   ],
   "source": [
    "start_time = time.time()\n",
    "\n",
    "# Mengambil sampel data: 100 dari kelas fraud dan 7900 dari kelas bukan fraud\n",
    "fraud_df = log_df.loc[log_df['fraud'] == 1].sample(100)\n",
    "nofraud_df = log_df.loc[log_df['fraud'] == 0].sample(7900)\n",
    "new_log_df = pd.concat([fraud_df, nofraud_df]).reset_index().drop(['index'], axis=1)\n",
    "n = len(new_log_df)\n",
    "new_log_df.to_csv('BankSim 8000.csv')\n",
    "\n",
    "# Matriks ketetanggaan A: 1 jika terdapat 'customer' atau 'merchant' yang sama\n",
    "A = np.zeros((n,n), dtype=np.int8)\n",
    "for i in range(n):\n",
    "    cus, mer = new_log_df.loc[i, 'customer'], new_log_df.loc[i, 'merchant']\n",
    "    for j in range(i+1, n):\n",
    "        if cus == new_log_df.loc[j, 'customer'] or mer == new_log_df.loc[j, 'merchant']:\n",
    "            A[i,j] = 1\n",
    "            A[j,i] = 1\n",
    "    if i%100 == 0:\n",
    "        print(i, time.time()-start_time)\n",
    "\n",
    "# Membangun objek data graf berdasarkan A\n",
    "sparse_A = scipy.sparse.csr_matrix(A)\n",
    "G = torch_geometric.utils.from_scipy_sparse_matrix(sparse_A)\n",
    "G_data = torch_geometric.data.Data(edge_index=G[0])\n",
    "\n",
    "end_time = time.time() - start_time\n",
    "\n",
    "print('Time to construct data object based on A:', end_time)"
   ]
  },
  {
   "cell_type": "markdown",
   "id": "41e993a3",
   "metadata": {},
   "source": [
    "## 3. Membangun matriks fitur X dan label titik y"
   ]
  },
  {
   "cell_type": "code",
   "execution_count": null,
   "id": "d6c5875a",
   "metadata": {},
   "outputs": [],
   "source": [
    "start_time = time.time()\n",
    "\n",
    "# Fitur titik: 'category', 'amount', 'customer age', 'customer gender'\n",
    "nodes_feature = pd.get_dummies(new_log_df['category'])\n",
    "nodes_feature['weight'] = new_log_df['amount']\n",
    "nodes_feature['cus_age'] = new_log_df['age']\n",
    "nodes_feature['cus_gender'] = new_log_df['gender']\n",
    "nodes_feature = torch.tensor(nodes_feature.values)\n",
    "\n",
    "# Label titik: fraud atau bukan fraud\n",
    "nodes_label = torch.tensor(new_log_df['fraud'].values)\n",
    "G_data.x = nodes_feature\n",
    "G_data.y = nodes_label\n",
    "G_data.num_nodes = n\n",
    "\n",
    "print('Time to construct feature matrix X and label vector y: ', time.time()-start_time)"
   ]
  },
  {
   "cell_type": "markdown",
   "id": "939c40a9",
   "metadata": {},
   "source": [
    "## 4. Menyimpan dataset graf"
   ]
  },
  {
   "cell_type": "code",
   "execution_count": null,
   "id": "50c34ae9",
   "metadata": {},
   "outputs": [],
   "source": [
    "torch.save(G_data, 'BankSim 8000')"
   ]
  }
 ],
 "metadata": {
  "kernelspec": {
   "display_name": "Python 3 (ipykernel)",
   "language": "python",
   "name": "python3"
  },
  "language_info": {
   "codemirror_mode": {
    "name": "ipython",
    "version": 3
   },
   "file_extension": ".py",
   "mimetype": "text/x-python",
   "name": "python",
   "nbconvert_exporter": "python",
   "pygments_lexer": "ipython3",
   "version": "3.9.13"
  }
 },
 "nbformat": 4,
 "nbformat_minor": 5
}
