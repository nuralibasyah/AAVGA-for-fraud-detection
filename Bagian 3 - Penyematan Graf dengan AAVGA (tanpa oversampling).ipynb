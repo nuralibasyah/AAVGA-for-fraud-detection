{
 "cells": [
  {
   "cell_type": "markdown",
   "id": "1fcab437",
   "metadata": {},
   "source": [
    "## 0. Mengimport Modul dan Membaca Data"
   ]
  },
  {
   "cell_type": "code",
   "execution_count": null,
   "id": "63fd936a",
   "metadata": {},
   "outputs": [],
   "source": [
    "# Machine Larning Model\n",
    "from sklearn.metrics import accuracy_score, average_precision_score, roc_auc_score, confusion_matrix\n",
    "from sklearn.linear_model import LogisticRegression\n",
    "from sklearn.neural_network import MLPClassifier\n",
    "import xgboost as xgb\n",
    "\n",
    "# Graph processing and embedding\n",
    "from torch_geometric.loader import NeighborLoader, ImbalancedSampler\n",
    "from torch_geometric.utils import train_test_split_edges\n",
    "from torch_geometric.nn.models.autoencoder import ARGVA\n",
    "from torch_geometric.nn import GCNConv, GATConv\n",
    "import torch_geometric.transforms as T\n",
    "from torch_geometric.data import Data\n",
    "import torch.nn.functional as F\n",
    "from torch.nn import Linear\n",
    "import torch_geometric\n",
    "import torch\n",
    "\n",
    "# Others\n",
    "import time\n",
    "import pandas as pd\n",
    "import numpy as np"
   ]
  },
  {
   "cell_type": "code",
   "execution_count": null,
   "id": "ce876649",
   "metadata": {},
   "outputs": [],
   "source": [
    "# Setting devices\n",
    "device = torch.device('cuda' if torch.cuda.is_available() else 'cpu')\n",
    "\n",
    "# Define Preprocessing\n",
    "transform = T.Compose([\n",
    "    T.ToDevice(device),\n",
    "    T.RandomLinkSplit(num_val=0.05, num_test=0.1, is_undirected=True,\n",
    "                      split_labels=True, add_negative_train_samples=False),\n",
    "    T.RandomNodeSplit(split='train_rest', num_test=0, num_val=0),\n",
    "    T.NormalizeFeatures()])\n",
    "\n",
    "# Loading data\n",
    "data = torch.load('BankSim 8000')\n",
    "data.x = data.x.float()\n",
    "train_data, val_data, test_data = transform(data)"
   ]
  },
  {
   "cell_type": "markdown",
   "id": "2fb814ff",
   "metadata": {},
   "source": [
    "## 1. Mendefinisikan Model AAVGA dan fungsi training"
   ]
  },
  {
   "cell_type": "code",
   "execution_count": null,
   "id": "ab2a31a4",
   "metadata": {},
   "outputs": [],
   "source": [
    "# Mendefinisikan kelas encoder dengan k=1 (n_heads)\n",
    "class Encoder(torch.nn.Module):\n",
    "    def __init__(self, in_channels, hidden_channels, out_channels):\n",
    "        super().__init__()\n",
    "        self.conv1 = GATConv(in_channels, hidden_channels, heads=1)\n",
    "        self.conv_mu = GCNConv(hidden_channels, out_channels, heads=1)\n",
    "        self.conv_logstd = GCNConv(hidden_channels, out_channels, heads=1)\n",
    "\n",
    "    def forward(self, x, edge_index):\n",
    "        x = self.conv1(x, edge_index).relu()\n",
    "        return self.conv_mu(x, edge_index), self.conv_logstd(x, edge_index)\n",
    "\n",
    "# Mendefinisikan kelas diskriminator (MLP)\n",
    "class Discriminator(torch.nn.Module):\n",
    "    def __init__(self, in_channels, hidden_channels, out_channels):\n",
    "        super().__init__()\n",
    "        self.lin1 = Linear(in_channels, hidden_channels)\n",
    "        self.lin2 = Linear(hidden_channels, hidden_channels)\n",
    "        self.lin3 = Linear(hidden_channels, out_channels)\n",
    "\n",
    "    def forward(self, x):\n",
    "        x = self.lin1(x).relu()\n",
    "        x = self.lin2(x).relu()\n",
    "        return self.lin3(x)\n",
    "\n",
    "# Mendefinisikan model\n",
    "encoder = Encoder(train_data.num_features, hidden_channels=32, out_channels=32)\n",
    "discriminator = Discriminator(in_channels=32, hidden_channels=64,\n",
    "                              out_channels=32)\n",
    "model = ARGVA(encoder, discriminator).to(device)\n",
    "encoder_optimizer = torch.optim.Adam(encoder.parameters(), lr=0.005)\n",
    "discriminator_optimizer = torch.optim.Adam(discriminator.parameters(),\n",
    "                                           lr=0.001)\n",
    "\n",
    "# Mendefinisikan fungsi training\n",
    "def train():\n",
    "    model.train()\n",
    "    encoder_optimizer.zero_grad()\n",
    "    \n",
    "    z = model.encode(train_data.x, train_data.edge_index)\n",
    "\n",
    "    # We optimize the discriminator more frequently than the encoder.\n",
    "    for i in range(5):\n",
    "        discriminator_optimizer.zero_grad()\n",
    "        discriminator_loss = model.discriminator_loss(z)\n",
    "        discriminator_loss.backward()\n",
    "        discriminator_optimizer.step()\n",
    "\n",
    "    loss = model.recon_loss(z, train_data.pos_edge_label_index)\n",
    "    loss = loss + model.reg_loss(z)\n",
    "    loss = loss + (1 / train_data.num_nodes) * model.kl_loss()\n",
    "    loss.backward()\n",
    "    encoder_optimizer.step()\n",
    "    return float(loss)\n",
    "\n",
    "# Mendefinisikan fungsi testing\n",
    "@torch.no_grad()\n",
    "def test(data):\n",
    "    model.eval()\n",
    "    z = model.encode(data.x, data.edge_index)\n",
    "    label = data.y.cpu().numpy()\n",
    "    classifier = xgb.XGBClassifier(random_state=42)\n",
    "    clf_input = z.cpu().numpy()\n",
    "    clf_output = classifier.fit(X=clf_input, y=label)\n",
    "    pred = clf_output.predict(clf_input)\n",
    "    auc, ap = model.test(z, data.pos_edge_label_index, data.neg_edge_label_index)\n",
    "    acc = accuracy_score(label, pred)\n",
    "    cm = confusion_matrix(label, pred)\n",
    "    auc_clf = roc_auc_score(label, pred)\n",
    "    ap_clf = average_precision_score(label, pred)\n",
    "    return acc, cm, auc_clf, ap_clf, z, label, auc, ap"
   ]
  },
  {
   "cell_type": "markdown",
   "id": "0fa2a9ee",
   "metadata": {},
   "source": [
    "## 2. Melakukan Training model AAVGA"
   ]
  },
  {
   "cell_type": "code",
   "execution_count": 8,
   "id": "0f698afa",
   "metadata": {},
   "outputs": [
    {
     "name": "stdout",
     "output_type": "stream",
     "text": [
      "Epoch: 000, Loss: 5.330, ACC: 1.000, AUC_CLF: 1.000, AP_CLF: 1.000\n",
      "AUC link pred: 0.40731652510459027 AP link pred: 0.42581670331867727\n",
      "Epoch: 001, Loss: 5.188, ACC: 1.000, AUC_CLF: 1.000, AP_CLF: 1.000\n",
      "AUC link pred: 0.4289632221833005 AP link pred: 0.43772589985809585\n",
      "Epoch: 002, Loss: 5.055, ACC: 1.000, AUC_CLF: 1.000, AP_CLF: 1.000\n",
      "AUC link pred: 0.4346350743401321 AP link pred: 0.4409532231563128\n",
      "Epoch: 003, Loss: 4.907, ACC: 1.000, AUC_CLF: 1.000, AP_CLF: 1.000\n",
      "AUC link pred: 0.4427415861685526 AP link pred: 0.44535725343110855\n",
      "Epoch: 004, Loss: 4.782, ACC: 1.000, AUC_CLF: 1.000, AP_CLF: 1.000\n",
      "AUC link pred: 0.46343029994083446 AP link pred: 0.45722401295948145\n",
      "Epoch: 005, Loss: 4.677, ACC: 1.000, AUC_CLF: 1.000, AP_CLF: 1.000\n",
      "AUC link pred: 0.49934643443270194 AP link pred: 0.4775976007769435\n",
      "Epoch: 006, Loss: 4.535, ACC: 1.000, AUC_CLF: 1.000, AP_CLF: 1.000\n",
      "AUC link pred: 0.543303120724039 AP link pred: 0.5000313457089266\n",
      "Epoch: 007, Loss: 4.380, ACC: 1.000, AUC_CLF: 1.000, AP_CLF: 1.000\n",
      "AUC link pred: 0.5878120388105662 AP link pred: 0.5177707397096892\n",
      "Epoch: 008, Loss: 4.270, ACC: 1.000, AUC_CLF: 1.000, AP_CLF: 1.000\n",
      "AUC link pred: 0.608210636996319 AP link pred: 0.5220753970271543\n",
      "Epoch: 009, Loss: 4.137, ACC: 1.000, AUC_CLF: 1.000, AP_CLF: 1.000\n",
      "AUC link pred: 0.5449116299867987 AP link pred: 0.5043657869637979\n",
      "Training time for 10 epochs: 2943.9681327342987\n"
     ]
    }
   ],
   "source": [
    "start_time = time.time()\n",
    "\n",
    "losses = []\n",
    "acc_list = []\n",
    "cm_list = []\n",
    "auc_clf_list = []\n",
    "ap_clf_list = []\n",
    "for epoch in range(10):\n",
    "    loss = train()\n",
    "    losses.append(loss)\n",
    "    acc, cm, auc_clf, ap_clf, z, label, auc, ap = test(test_data)\n",
    "    acc_list.append(acc)\n",
    "    cm_list.append(cm)\n",
    "    auc_clf_list.append(auc_clf)\n",
    "    ap_clf_list.append(ap_clf)\n",
    "    #if epoch % 5 == 0:\n",
    "    print((f'Epoch: {epoch:03d}, Loss: {loss:.3f}, ACC: {acc:.3f}, AUC_CLF: {auc_clf:.3f}, AP_CLF: {ap_clf:.3f}'))\n",
    "    print('AUC link pred:', auc, 'AP link pred:', ap)\n",
    "end_time = time.time() - start_time\n",
    "print('Training time for 10 epochs:', end_time)"
   ]
  },
  {
   "cell_type": "markdown",
   "id": "83019904",
   "metadata": {},
   "source": [
    "## 3. Menyimpan hasil penyematan (Z)"
   ]
  },
  {
   "cell_type": "code",
   "execution_count": null,
   "id": "f8bc72fe",
   "metadata": {},
   "outputs": [],
   "source": [
    "embedding = pd.DataFrame(z.numpy())\n",
    "embedding.to_csv('Embedding AAVGA without ImbalanceSampler.csv')"
   ]
  }
 ],
 "metadata": {
  "kernelspec": {
   "display_name": "Python 3 (ipykernel)",
   "language": "python",
   "name": "python3"
  },
  "language_info": {
   "codemirror_mode": {
    "name": "ipython",
    "version": 3
   },
   "file_extension": ".py",
   "mimetype": "text/x-python",
   "name": "python",
   "nbconvert_exporter": "python",
   "pygments_lexer": "ipython3",
   "version": "3.9.13"
  }
 },
 "nbformat": 4,
 "nbformat_minor": 5
}
